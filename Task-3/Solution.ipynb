{
 "cells": [
  {
   "cell_type": "code",
   "execution_count": 59,
   "metadata": {},
   "outputs": [
    {
     "name": "stdout",
     "output_type": "stream",
     "text": [
      "Requirement already satisfied: pandas in d:\\react-life\\sber-mle-tech\\backend\\venv\\lib\\site-packages (1.2.3)\n",
      "Requirement already satisfied: numpy>=1.16.5 in d:\\react-life\\sber-mle-tech\\backend\\venv\\lib\\site-packages (from pandas) (1.20.1)\n",
      "Requirement already satisfied: pytz>=2017.3 in d:\\react-life\\sber-mle-tech\\backend\\venv\\lib\\site-packages (from pandas) (2021.1)\n",
      "Requirement already satisfied: python-dateutil>=2.7.3 in d:\\react-life\\sber-mle-tech\\backend\\venv\\lib\\site-packages (from pandas) (2.8.1)\n",
      "Requirement already satisfied: six>=1.5 in d:\\react-life\\sber-mle-tech\\backend\\venv\\lib\\site-packages (from python-dateutil>=2.7.3->pandas) (1.15.0)\n",
      "Requirement already satisfied: joblib in d:\\react-life\\sber-mle-tech\\backend\\venv\\lib\\site-packages (1.0.1)\n",
      "Requirement already satisfied: sklearn in d:\\react-life\\sber-mle-tech\\backend\\venv\\lib\\site-packages (0.0)\n",
      "Requirement already satisfied: scikit-learn in d:\\react-life\\sber-mle-tech\\backend\\venv\\lib\\site-packages (from sklearn) (0.24.1)\n",
      "Requirement already satisfied: threadpoolctl>=2.0.0 in d:\\react-life\\sber-mle-tech\\backend\\venv\\lib\\site-packages (from scikit-learn->sklearn) (2.1.0)\n",
      "Requirement already satisfied: scipy>=0.19.1 in d:\\react-life\\sber-mle-tech\\backend\\venv\\lib\\site-packages (from scikit-learn->sklearn) (1.6.1)\n",
      "Requirement already satisfied: numpy>=1.13.3 in d:\\react-life\\sber-mle-tech\\backend\\venv\\lib\\site-packages (from scikit-learn->sklearn) (1.20.1)\n",
      "Requirement already satisfied: joblib>=0.11 in d:\\react-life\\sber-mle-tech\\backend\\venv\\lib\\site-packages (from scikit-learn->sklearn) (1.0.1)\n",
      "Requirement already satisfied: catboost in d:\\react-life\\sber-mle-tech\\backend\\venv\\lib\\site-packages (0.24.4)\n",
      "Requirement already satisfied: numpy>=1.16.0 in d:\\react-life\\sber-mle-tech\\backend\\venv\\lib\\site-packages (from catboost) (1.20.1)\n",
      "Requirement already satisfied: graphviz in d:\\react-life\\sber-mle-tech\\backend\\venv\\lib\\site-packages (from catboost) (0.16)\n",
      "Requirement already satisfied: matplotlib in d:\\react-life\\sber-mle-tech\\backend\\venv\\lib\\site-packages (from catboost) (3.3.4)\n",
      "Requirement already satisfied: scipy in d:\\react-life\\sber-mle-tech\\backend\\venv\\lib\\site-packages (from catboost) (1.6.1)\n",
      "Requirement already satisfied: plotly in d:\\react-life\\sber-mle-tech\\backend\\venv\\lib\\site-packages (from catboost) (4.14.3)\n",
      "Requirement already satisfied: six in d:\\react-life\\sber-mle-tech\\backend\\venv\\lib\\site-packages (from catboost) (1.15.0)\n",
      "Requirement already satisfied: pandas>=0.24.0 in d:\\react-life\\sber-mle-tech\\backend\\venv\\lib\\site-packages (from catboost) (1.2.3)\n",
      "Requirement already satisfied: python-dateutil>=2.7.3 in d:\\react-life\\sber-mle-tech\\backend\\venv\\lib\\site-packages (from pandas>=0.24.0->catboost) (2.8.1)\n",
      "Requirement already satisfied: pytz>=2017.3 in d:\\react-life\\sber-mle-tech\\backend\\venv\\lib\\site-packages (from pandas>=0.24.0->catboost) (2021.1)\n",
      "Requirement already satisfied: kiwisolver>=1.0.1 in d:\\react-life\\sber-mle-tech\\backend\\venv\\lib\\site-packages (from matplotlib->catboost) (1.3.1)\n",
      "Requirement already satisfied: pillow>=6.2.0 in d:\\react-life\\sber-mle-tech\\backend\\venv\\lib\\site-packages (from matplotlib->catboost) (8.1.1)\n",
      "Requirement already satisfied: cycler>=0.10 in d:\\react-life\\sber-mle-tech\\backend\\venv\\lib\\site-packages (from matplotlib->catboost) (0.10.0)\n",
      "Requirement already satisfied: pyparsing!=2.0.4,!=2.1.2,!=2.1.6,>=2.0.3 in d:\\react-life\\sber-mle-tech\\backend\\venv\\lib\\site-packages (from matplotlib->catboost) (2.4.7)\n",
      "Requirement already satisfied: retrying>=1.3.3 in d:\\react-life\\sber-mle-tech\\backend\\venv\\lib\\site-packages (from plotly->catboost) (1.3.3)\n",
      "Collecting seaborn\n",
      "  Downloading seaborn-0.11.1-py3-none-any.whl (285 kB)\n",
      "Requirement already satisfied: numpy>=1.15 in d:\\react-life\\sber-mle-tech\\backend\\venv\\lib\\site-packages (from seaborn) (1.20.1)\n",
      "Requirement already satisfied: scipy>=1.0 in d:\\react-life\\sber-mle-tech\\backend\\venv\\lib\\site-packages (from seaborn) (1.6.1)\n",
      "Requirement already satisfied: pandas>=0.23 in d:\\react-life\\sber-mle-tech\\backend\\venv\\lib\\site-packages (from seaborn) (1.2.3)\n",
      "Requirement already satisfied: matplotlib>=2.2 in d:\\react-life\\sber-mle-tech\\backend\\venv\\lib\\site-packages (from seaborn) (3.3.4)\n",
      "Requirement already satisfied: kiwisolver>=1.0.1 in d:\\react-life\\sber-mle-tech\\backend\\venv\\lib\\site-packages (from matplotlib>=2.2->seaborn) (1.3.1)\n",
      "Requirement already satisfied: pillow>=6.2.0 in d:\\react-life\\sber-mle-tech\\backend\\venv\\lib\\site-packages (from matplotlib>=2.2->seaborn) (8.1.1)\n",
      "Requirement already satisfied: cycler>=0.10 in d:\\react-life\\sber-mle-tech\\backend\\venv\\lib\\site-packages (from matplotlib>=2.2->seaborn) (0.10.0)\n",
      "Requirement already satisfied: python-dateutil>=2.1 in d:\\react-life\\sber-mle-tech\\backend\\venv\\lib\\site-packages (from matplotlib>=2.2->seaborn) (2.8.1)\n",
      "Requirement already satisfied: pyparsing!=2.0.4,!=2.1.2,!=2.1.6,>=2.0.3 in d:\\react-life\\sber-mle-tech\\backend\\venv\\lib\\site-packages (from matplotlib>=2.2->seaborn) (2.4.7)\n",
      "Requirement already satisfied: six in d:\\react-life\\sber-mle-tech\\backend\\venv\\lib\\site-packages (from cycler>=0.10->matplotlib>=2.2->seaborn) (1.15.0)\n",
      "Requirement already satisfied: pytz>=2017.3 in d:\\react-life\\sber-mle-tech\\backend\\venv\\lib\\site-packages (from pandas>=0.23->seaborn) (2021.1)\n",
      "Installing collected packages: seaborn\n",
      "Successfully installed seaborn-0.11.1\n"
     ]
    }
   ],
   "source": [
    "! pip install pandas\n",
    "! pip install joblib\n",
    "! pip install sklearn\n",
    "! pip install catboost\n",
    "! pip install seaborn"
   ]
  },
  {
   "cell_type": "code",
   "execution_count": 64,
   "metadata": {
    "pycharm": {
     "name": "#%%\n"
    }
   },
   "outputs": [],
   "source": [
    "import pandas as pd\n",
    "import seaborn as sns\n",
    "import matplotlib.pyplot as plt\n",
    "%matplotlib inline\n",
    "\n",
    "from collections import defaultdict\n",
    "from joblib import delayed, Parallel\n",
    "\n",
    "from sklearn.model_selection import train_test_split, StratifiedKFold\n",
    "from sklearn.metrics import accuracy_score,f1_score, matthews_corrcoef\n",
    "from catboost import CatBoostClassifier, Pool, sum_models\n",
    "from sklearn.model_selection._split import _BaseKFold\n"
   ]
  },
  {
   "cell_type": "code",
   "execution_count": 2,
   "metadata": {
    "pycharm": {
     "name": "#%%\n"
    }
   },
   "outputs": [],
   "source": [
    "suffixes = ['_se', '_re']\n",
    "pays = pd.read_csv('data/pays.csv')\n",
    "inn = pd.read_csv('data/inn_info_public.csv')\n",
    "merged_pays = pd.merge(pays, inn, how='inner', left_on='hash_inn_kt', right_on='hash_inn')\n",
    "merged_pays = pd.merge(\n",
    "    merged_pays, inn, how='inner',\n",
    "    left_on='hash_inn_dt', right_on='hash_inn',\n",
    "    suffixes=suffixes\n",
    ")\n",
    "merged_pays.drop(columns=['hash_inn_kt', 'hash_inn_dt'], inplace=True)\n",
    "suffixes = [suffix[1:] for suffix in suffixes]"
   ]
  },
  {
   "cell_type": "code",
   "execution_count": 3,
   "metadata": {
    "pycharm": {
     "name": "#%%\n"
    }
   },
   "outputs": [],
   "source": [
    "class FeatureGenerator(object):\n",
    "    def __init__(self, n_jobs=1, df=None, suffixes=None, key_param=None):\n",
    "        self.n_jobs = n_jobs\n",
    "        self.df = df\n",
    "        self.suffixes = suffixes\n",
    "        self.key_param = key_param\n",
    "\n",
    "    def read_chunks(self):\n",
    "        for suffix in self.suffixes:\n",
    "            column = f'{self.key_param}_{suffix}'\n",
    "            for id, user_sample in self.df.groupby(column, sort=False):\n",
    "                yield id, user_sample, column\n",
    "\n",
    "    def get_features(self, row):\n",
    "        return self.features(row)\n",
    "\n",
    "    def find_most_popular_column(self, row, pays, filtered_suffix, search_suffix):\n",
    "        inn = row.name\n",
    "        filtered_column_name = f'{self.key_param}_{filtered_suffix}'\n",
    "        search_column_name = f'{self.key_param}_{search_suffix}'\n",
    "        filtered_pays = pays[pays[filtered_column_name] == inn]\n",
    "        if len(filtered_pays) > 0:\n",
    "            return filtered_pays[search_column_name].value_counts().idxmax()\n",
    "        return -1\n",
    "\n",
    "    def features(self, inn: int, inn_sample, column: str):\n",
    "        feature_dict = defaultdict(dict)\n",
    "        prefix = column.split('_')[-1]\n",
    "        feature_dict[inn]['okved'] = inn_sample[f'okved2_{prefix}'].iloc[0]\n",
    "        number_of_records = inn_sample.shape[0]\n",
    "        positive_sum_sample = inn_sample[inn_sample['sum'] >= 0]\n",
    "        negative_sum_sample = inn_sample[inn_sample['sum'] < 0]\n",
    "        same_region = inn_sample[inn_sample[f'region_{self.suffixes[0]}'] == inn_sample[f'region_{self.suffixes[1]}']]\n",
    "        feature_dict[inn][f'region'] = inn_sample[f'region_{prefix}'].iloc[0]\n",
    "        feature_dict[inn][f'{prefix}_positive_sum_percent'] = (positive_sum_sample.shape[0] / number_of_records) * 100\n",
    "        feature_dict[inn][f'{prefix}_positive_sum'] = positive_sum_sample['sum'].sum()\n",
    "        feature_dict[inn][f'{prefix}_negative_sum_percent'] = (negative_sum_sample.shape[0] / number_of_records) * 100\n",
    "        feature_dict[inn][f'{prefix}_negative_sum'] = inn_sample[inn_sample['sum'] < 0]['sum'].sum()\n",
    "        feature_dict[inn][f\"{prefix}_sales_is_same_region\"] = (same_region.shape[0] / inn_sample.shape[0]) * 100\n",
    "        feature_dict[inn][f\"{prefix}_sales_is_not_same_region\"] = 100.00 - feature_dict[inn][f\"{prefix}_sales_is_same_region\"]\n",
    "        feature_dict[inn][f\"{prefix}_accum_sum\"] = inn_sample['sum'].sum()\n",
    "        feature_dict[inn][f\"{prefix}_sum_min\"] = inn_sample['sum'].min()\n",
    "        feature_dict[inn][f\"{prefix}_sum_max\"] = inn_sample['sum'].max()\n",
    "        feature_dict[inn][f\"{prefix}_sum_mean\"] = inn_sample['sum'].mean()\n",
    "        feature_dict[inn][f\"{prefix}_sum_25_percentile\"] = inn_sample['sum'].quantile(0.25)\n",
    "        feature_dict[inn][f\"{prefix}_sum_std\"] = inn_sample['sum'].std()\n",
    "        feature_dict[inn][f\"{prefix}_sum_75_percentile\"] = inn_sample['sum'].quantile(0.75)\n",
    "        feature_dict[inn][f'{prefix}_count_sum'] = inn_sample['count'].sum()\n",
    "        feature_dict[inn][f'{prefix}_count_mean'] = inn_sample['count'].mean()\n",
    "        feature_dict[inn][f'{prefix}_count_min'] = inn_sample['count'].min()\n",
    "        feature_dict[inn][f'{prefix}_count_max'] = inn_sample['count'].max()\n",
    "        feature_dict[inn][f'{prefix}_sum_across_week_mean'] = feature_dict[inn][f\"{prefix}_sum_mean\"] / feature_dict[inn][\n",
    "            f'{prefix}_count_sum']\n",
    "        feature_dict[inn][f'{prefix}_week_count'] = inn_sample['week'].nunique()\n",
    "        if prefix == self.suffixes[0]:\n",
    "            feature_dict[inn][f'{prefix}_number_of_clients'] = inn_sample[f'hash_inn_{self.suffixes[1]}'].nunique()\n",
    "            feature_dict[inn][f'{prefix}_number_of_regions'] = inn_sample[f'region_{self.suffixes[1]}'].nunique()\n",
    "        else:\n",
    "            feature_dict[inn][f'{prefix}_number_of_clients'] = inn_sample[f'hash_inn_{self.suffixes[0]}'].nunique()\n",
    "            feature_dict[inn][f'{prefix}_number_of_regions'] = inn_sample[f'region_{self.suffixes[0]}'].nunique()\n",
    "        feature_dict[inn][f'{prefix}_week_count'] = inn_sample['week'].nunique()\n",
    "        feature_dict[inn][f\"{prefix}_records_count\"] = number_of_records\n",
    "        self.postprocessing(feature_dict[inn])\n",
    "        return feature_dict\n",
    "\n",
    "    def postprocessing(self, features: dict):\n",
    "        for column, value in features.items():\n",
    "            if isinstance(value, float):\n",
    "                features[column] = round(value, 2)\n",
    "\n",
    "    def generate(self, pays, prefix_1, prefix_2):\n",
    "        feature_list = defaultdict(dict)\n",
    "        results = Parallel(n_jobs=self.n_jobs, backend='loky')(delayed(self.features)(inn, inn_sample, column)\n",
    "                                                               for inn, inn_sample, column in self.read_chunks())\n",
    "        for result in results:\n",
    "            for inn, features in result.items():\n",
    "                feature_list[inn].update(features)\n",
    "        feature_df = pd.DataFrame(feature_list).T\n",
    "        feature_df = feature_df.fillna(0)\n",
    "        feature_df[f'{self.suffixes[0]}_most_popular_client'] = feature_df.apply(\n",
    "            lambda row: self.find_most_popular_column(row, pays, prefix_1, prefix_2), axis=1)\n",
    "        feature_df[f'{self.suffixes[1]}_most_popular_client'] = feature_df.apply(\n",
    "            lambda row: self.find_most_popular_column(row, pays, prefix_2, prefix_1 ), axis=1)\n",
    "        return feature_df\n"
   ]
  },
  {
   "cell_type": "code",
   "execution_count": null,
   "metadata": {
    "pycharm": {
     "name": "#%%\n"
    }
   },
   "outputs": [],
   "source": [
    "fg = FeatureGenerator(n_jobs=4, df=merged_pays, suffixes=suffixes, key_param='hash_inn')\n",
    "features = fg.generate(pays, 'kt', 'dt')"
   ]
  },
  {
   "cell_type": "code",
   "execution_count": null,
   "metadata": {
    "pycharm": {
     "name": "#%%\n"
    }
   },
   "outputs": [],
   "source": [
    "features.to_csv('features.csv')"
   ]
  },
  {
   "cell_type": "code",
   "execution_count": 79,
   "metadata": {
    "pycharm": {
     "name": "#%%\n"
    }
   },
   "outputs": [],
   "source": [
    "features = pd.read_csv('features.csv', index_col='Unnamed: 0')"
   ]
  },
  {
   "cell_type": "code",
   "execution_count": 80,
   "metadata": {
    "pycharm": {
     "name": "#%%\n"
    }
   },
   "outputs": [],
   "source": [
    "features.region = features.region.astype(int)\n",
    "X = features[features.okved != -1]\n",
    "y = X['okved']\n",
    "X_test = features[features.okved == -1]\n",
    "X_test = X_test.drop(columns=['okved'])"
   ]
  },
  {
   "cell_type": "code",
   "execution_count": 81,
   "metadata": {
    "pycharm": {
     "name": "#%%\n"
    }
   },
   "outputs": [],
   "source": [
    "class Model:\n",
    "    \n",
    "    def __init__(self):\n",
    "        self.models_avg = None\n",
    "    \n",
    "    def _print_metrics(self, y, y_pred):\n",
    "        print('Test accuracy %s' % accuracy_score(y, y_pred))\n",
    "        print('Test accuracy Matthew %s' % matthews_corrcoef(y, y_pred))\n",
    "        print('Test accuracy micro %s' % f1_score(y, y_pred, average='micro'))\n",
    "        \n",
    "    def fit(self, X: pd.DataFrame, y: pd.DataFrame, nfold: int, cross_validator: _BaseKFold):\n",
    "        \n",
    "        models = []\n",
    "        self.feature_importances = pd.DataFrame(columns=['feature', 'importance'])\n",
    "        folds = cross_validator(n_splits=nfold)\n",
    "        for fold_n, (train_index, valid_index) in enumerate(folds.split(X, y, X['okved'])):\n",
    "            print(f'Start training fold #{fold_n}')\n",
    "            X_t = X.drop(columns=['okved'])\n",
    "            X_train, X_valid = X_t.iloc[train_index], X_t.iloc[valid_index]\n",
    "            y_train, y_valid = y.iloc[train_index], y.iloc[valid_index]\n",
    "            train_pool = Pool(X_train,\n",
    "                              y_train,\n",
    "                              cat_features=['region'])\n",
    "            model = CatBoostClassifier(iterations=1000, task_type='GPU', verbose=100)\n",
    "            model.fit(train_pool)\n",
    "            y_pred_valid = model.predict(X_valid)\n",
    "            self._print_metrics(y_valid, y_pred_valid)\n",
    "            models.append(model)\n",
    "            fold_importance = pd.DataFrame(list(zip(X_train.columns, model.feature_importances_)),\n",
    "                                           columns=['feature', 'importance'])\n",
    "            self.feature_importances = self.feature_importances.append(fold_importance)\n",
    "        self.models_avg = sum_models(models, weights=[1.0 / len(models)] * len(models))\n",
    "        y_pred_valid = self.models_avg.predict(X_valid).argmax(axis=1)\n",
    "        print(f'Average Models')\n",
    "        self._print_metrics(y_valid, y_pred_valid)\n",
    "        fig, ax = plt.subplots(figsize=(16, 12))\n",
    "        plt.subplot(2, 2, 1)\n",
    "        self.plot_feature_importance(top_n=20)\n",
    "    \n",
    "    def predict(self, X: pd.DataFrame):\n",
    "        return self.models_avg.predict(X).argmax(axis=1)\n",
    "    \n",
    "    def plot_feature_importance(self, drop_null_importance: bool = True, top_n: int = 10):\n",
    "        top_feats = self.get_top_features(drop_null_importance, top_n)\n",
    "        feature_importances = self.feature_importances.loc[self.feature_importances['feature'].isin(top_feats)]\n",
    "        feature_importances['feature'] = feature_importances['feature'].astype(str)\n",
    "        top_feats = [str(i) for i in top_feats]\n",
    "        sns.barplot(data=feature_importances, x='importance', y='feature', orient='h', order=top_feats)\n",
    "        plt.title('Feature importances')\n",
    "\n",
    "    def get_top_features(self, drop_null_importance: bool = True, top_n: int = 10):\n",
    "        grouped_feats = self.feature_importances.groupby(['feature'])['importance'].mean()\n",
    "        if drop_null_importance:\n",
    "            grouped_feats = grouped_feats[grouped_feats != 0]\n",
    "        return list(grouped_feats.sort_values(ascending=False).index)[:top_n]\n",
    "\n",
    "    "
   ]
  },
  {
   "cell_type": "code",
   "execution_count": 82,
   "metadata": {
    "scrolled": false
   },
   "outputs": [
    {
     "name": "stdout",
     "output_type": "stream",
     "text": [
      "Start training fold #0\n",
      "Learning rate set to 0.174958\n",
      "0:\tlearn: 3.5337363\ttotal: 174ms\tremaining: 2m 53s\n",
      "100:\tlearn: 2.7648477\ttotal: 17.9s\tremaining: 2m 39s\n",
      "200:\tlearn: 2.6471036\ttotal: 35.2s\tremaining: 2m 19s\n",
      "300:\tlearn: 2.5693017\ttotal: 52.3s\tremaining: 2m 1s\n",
      "400:\tlearn: 2.4963456\ttotal: 1m 9s\tremaining: 1m 43s\n",
      "500:\tlearn: 2.4243855\ttotal: 1m 26s\tremaining: 1m 26s\n",
      "600:\tlearn: 2.3621050\ttotal: 1m 44s\tremaining: 1m 9s\n",
      "700:\tlearn: 2.2941305\ttotal: 2m 1s\tremaining: 51.9s\n",
      "800:\tlearn: 2.2341744\ttotal: 2m 19s\tremaining: 34.6s\n",
      "900:\tlearn: 2.1722900\ttotal: 2m 36s\tremaining: 17.2s\n",
      "999:\tlearn: 2.1137274\ttotal: 2m 54s\tremaining: 0us\n",
      "Test accuracy 0.3367097233838243\n",
      "Test accuracy Matthew 0.18892628467350167\n",
      "Test accuracy micro 0.3367097233838243\n",
      "Start training fold #1\n",
      "Learning rate set to 0.174958\n",
      "0:\tlearn: 3.5258018\ttotal: 175ms\tremaining: 2m 54s\n",
      "100:\tlearn: 2.7426625\ttotal: 18s\tremaining: 2m 40s\n",
      "200:\tlearn: 2.6205799\ttotal: 35.3s\tremaining: 2m 20s\n",
      "300:\tlearn: 2.5330982\ttotal: 52.5s\tremaining: 2m 2s\n",
      "400:\tlearn: 2.4612778\ttotal: 1m 9s\tremaining: 1m 44s\n",
      "500:\tlearn: 2.3905178\ttotal: 1m 27s\tremaining: 1m 26s\n",
      "600:\tlearn: 2.3223896\ttotal: 1m 44s\tremaining: 1m 9s\n",
      "700:\tlearn: 2.2604501\ttotal: 2m 2s\tremaining: 52s\n",
      "800:\tlearn: 2.1963122\ttotal: 2m 19s\tremaining: 34.7s\n",
      "900:\tlearn: 2.1411499\ttotal: 2m 37s\tremaining: 17.3s\n",
      "999:\tlearn: 2.0829132\ttotal: 2m 54s\tremaining: 0us\n",
      "Test accuracy 0.32707617012049683\n",
      "Test accuracy Matthew 0.16983899115619983\n",
      "Test accuracy micro 0.32707617012049683\n",
      "Start training fold #2\n",
      "Learning rate set to 0.174958\n",
      "0:\tlearn: 3.5514919\ttotal: 175ms\tremaining: 2m 55s\n",
      "100:\tlearn: 2.7416824\ttotal: 18.1s\tremaining: 2m 41s\n",
      "200:\tlearn: 2.6116500\ttotal: 35.6s\tremaining: 2m 21s\n",
      "300:\tlearn: 2.5205833\ttotal: 53s\tremaining: 2m 3s\n",
      "400:\tlearn: 2.4434793\ttotal: 1m 10s\tremaining: 1m 45s\n",
      "500:\tlearn: 2.3690139\ttotal: 1m 27s\tremaining: 1m 27s\n",
      "600:\tlearn: 2.2986946\ttotal: 1m 45s\tremaining: 1m 10s\n",
      "700:\tlearn: 2.2312902\ttotal: 2m 3s\tremaining: 52.6s\n",
      "800:\tlearn: 2.1699780\ttotal: 2m 20s\tremaining: 35s\n",
      "900:\tlearn: 2.1100420\ttotal: 2m 38s\tremaining: 17.4s\n",
      "999:\tlearn: 2.0524192\ttotal: 2m 56s\tremaining: 0us\n",
      "Test accuracy 0.31282718458631475\n",
      "Test accuracy Matthew 0.14813309009085246\n",
      "Test accuracy micro 0.31282718458631475\n",
      "Start training fold #3\n",
      "Learning rate set to 0.174958\n",
      "0:\tlearn: 3.5376197\ttotal: 177ms\tremaining: 2m 56s\n",
      "100:\tlearn: 2.6862092\ttotal: 18.2s\tremaining: 2m 41s\n",
      "200:\tlearn: 2.5559190\ttotal: 35.7s\tremaining: 2m 21s\n",
      "300:\tlearn: 2.4627837\ttotal: 53s\tremaining: 2m 3s\n",
      "400:\tlearn: 2.3840765\ttotal: 1m 10s\tremaining: 1m 45s\n",
      "500:\tlearn: 2.3104280\ttotal: 1m 28s\tremaining: 1m 27s\n",
      "600:\tlearn: 2.2292189\ttotal: 1m 45s\tremaining: 1m 10s\n",
      "700:\tlearn: 2.1624496\ttotal: 2m 3s\tremaining: 52.8s\n",
      "800:\tlearn: 2.0904801\ttotal: 2m 21s\tremaining: 35.2s\n",
      "900:\tlearn: 2.0252461\ttotal: 2m 39s\tremaining: 17.5s\n",
      "999:\tlearn: 1.9628246\ttotal: 2m 58s\tremaining: 0us\n",
      "Test accuracy 0.18988322027073073\n",
      "Test accuracy Matthew 0.04359721167672473\n",
      "Test accuracy micro 0.18988322027073073\n",
      "Start training fold #4\n",
      "Learning rate set to 0.174958\n",
      "0:\tlearn: 3.5370970\ttotal: 175ms\tremaining: 2m 54s\n",
      "100:\tlearn: 2.6694642\ttotal: 18.4s\tremaining: 2m 44s\n",
      "200:\tlearn: 2.5376047\ttotal: 36.1s\tremaining: 2m 23s\n",
      "300:\tlearn: 2.4418347\ttotal: 53.7s\tremaining: 2m 4s\n",
      "400:\tlearn: 2.3614685\ttotal: 1m 11s\tremaining: 1m 46s\n",
      "500:\tlearn: 2.2884318\ttotal: 1m 29s\tremaining: 1m 28s\n",
      "600:\tlearn: 2.2157381\ttotal: 1m 47s\tremaining: 1m 11s\n",
      "700:\tlearn: 2.1480631\ttotal: 2m 4s\tremaining: 53.3s\n",
      "800:\tlearn: 2.0771744\ttotal: 2m 23s\tremaining: 35.6s\n",
      "900:\tlearn: 2.0115518\ttotal: 2m 41s\tremaining: 17.7s\n",
      "999:\tlearn: 1.9493571\ttotal: 2m 58s\tremaining: 0us\n",
      "Test accuracy 0.1329182541895115\n",
      "Test accuracy Matthew 0.05266762583457616\n",
      "Test accuracy micro 0.1329182541895115\n",
      "Average Models\n",
      "Test accuracy 0.3556980454108974\n",
      "Test accuracy Matthew 0.21462426390739578\n",
      "Test accuracy micro 0.3556980454108974\n"
     ]
    },
    {
     "name": "stderr",
     "output_type": "stream",
     "text": [
      "<ipython-input-81-92bb4a9f39c4>:46: SettingWithCopyWarning: \n",
      "A value is trying to be set on a copy of a slice from a DataFrame.\n",
      "Try using .loc[row_indexer,col_indexer] = value instead\n",
      "\n",
      "See the caveats in the documentation: https://pandas.pydata.org/pandas-docs/stable/user_guide/indexing.html#returning-a-view-versus-a-copy\n",
      "  feature_importances['feature'] = feature_importances['feature'].astype(str)\n"
     ]
    },
    {
     "data": {
      "image/png": "[encoded data removed]",
      "text/plain": [
       "<Figure size 1152x864 with 1 Axes>"
      ]
     },
     "metadata": {
      "needs_background": "light"
     },
     "output_type": "display_data"
    }
   ],
   "source": [
    "n_fold = 5\n",
    "model = Model()\n",
    "model.fit(X, y, n_fold, StratifiedKFold)"
   ]
  },
  {
   "cell_type": "code",
   "execution_count": null,
   "outputs": [],
   "source": [
    "y_pred = model.predict(X_test)\n",
    "submission = pd.DataFrame(data=y_pred,  columns=[\"okved2\"], index=X_test.index)\n",
    "submission.to_csv('submission.csv')"
   ],
   "metadata": {
    "collapsed": false,
    "pycharm": {
     "name": "#%%\n"
    }
   }
  },
  {
   "cell_type": "code",
   "execution_count": 83,
   "metadata": {},
   "outputs": [],
   "source": []
  },
  {
   "cell_type": "code",
   "execution_count": null,
   "metadata": {},
   "outputs": [],
   "source": []
  }
 ],
 "metadata": {
  "kernelspec": {
   "display_name": "Python 3",
   "language": "python",
   "name": "python3"
  },
  "language_info": {
   "codemirror_mode": {
    "name": "ipython",
    "version": 3
   },
   "file_extension": ".py",
   "mimetype": "text/x-python",
   "name": "python",
   "nbconvert_exporter": "python",
   "pygments_lexer": "ipython3",
   "version": "3.8.3"
  }
 },
 "nbformat": 4,
 "nbformat_minor": 1
}