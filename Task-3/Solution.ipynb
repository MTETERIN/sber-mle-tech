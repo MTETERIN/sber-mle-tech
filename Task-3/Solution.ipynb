{
 "cells": [
  {
   "cell_type": "code",
   "execution_count": 84,
   "metadata": {},
   "outputs": [
    {
     "name": "stdout",
     "output_type": "stream",
     "text": [
      "Requirement already satisfied: pandas in d:\\react-life\\sber-mle-tech\\backend\\venv\\lib\\site-packages (1.2.3)\n",
      "Requirement already satisfied: python-dateutil>=2.7.3 in d:\\react-life\\sber-mle-tech\\backend\\venv\\lib\\site-packages (from pandas) (2.8.1)\n",
      "Requirement already satisfied: pytz>=2017.3 in d:\\react-life\\sber-mle-tech\\backend\\venv\\lib\\site-packages (from pandas) (2021.1)\n",
      "Requirement already satisfied: numpy>=1.16.5 in d:\\react-life\\sber-mle-tech\\backend\\venv\\lib\\site-packages (from pandas) (1.20.1)\n",
      "Requirement already satisfied: six>=1.5 in d:\\react-life\\sber-mle-tech\\backend\\venv\\lib\\site-packages (from python-dateutil>=2.7.3->pandas) (1.15.0)\n",
      "Requirement already satisfied: joblib in d:\\react-life\\sber-mle-tech\\backend\\venv\\lib\\site-packages (1.0.1)\n",
      "Requirement already satisfied: sklearn in d:\\react-life\\sber-mle-tech\\backend\\venv\\lib\\site-packages (0.0)\n",
      "Requirement already satisfied: scikit-learn in d:\\react-life\\sber-mle-tech\\backend\\venv\\lib\\site-packages (from sklearn) (0.24.1)\n",
      "Requirement already satisfied: numpy>=1.13.3 in d:\\react-life\\sber-mle-tech\\backend\\venv\\lib\\site-packages (from scikit-learn->sklearn) (1.20.1)\n",
      "Requirement already satisfied: scipy>=0.19.1 in d:\\react-life\\sber-mle-tech\\backend\\venv\\lib\\site-packages (from scikit-learn->sklearn) (1.6.1)\n",
      "Requirement already satisfied: threadpoolctl>=2.0.0 in d:\\react-life\\sber-mle-tech\\backend\\venv\\lib\\site-packages (from scikit-learn->sklearn) (2.1.0)\n",
      "Requirement already satisfied: joblib>=0.11 in d:\\react-life\\sber-mle-tech\\backend\\venv\\lib\\site-packages (from scikit-learn->sklearn) (1.0.1)\n",
      "Requirement already satisfied: catboost in d:\\react-life\\sber-mle-tech\\backend\\venv\\lib\\site-packages (0.24.4)\n",
      "Requirement already satisfied: pandas>=0.24.0 in d:\\react-life\\sber-mle-tech\\backend\\venv\\lib\\site-packages (from catboost) (1.2.3)\n",
      "Requirement already satisfied: scipy in d:\\react-life\\sber-mle-tech\\backend\\venv\\lib\\site-packages (from catboost) (1.6.1)\n",
      "Requirement already satisfied: graphviz in d:\\react-life\\sber-mle-tech\\backend\\venv\\lib\\site-packages (from catboost) (0.16)\n",
      "Requirement already satisfied: numpy>=1.16.0 in d:\\react-life\\sber-mle-tech\\backend\\venv\\lib\\site-packages (from catboost) (1.20.1)\n",
      "Requirement already satisfied: six in d:\\react-life\\sber-mle-tech\\backend\\venv\\lib\\site-packages (from catboost) (1.15.0)\n",
      "Requirement already satisfied: matplotlib in d:\\react-life\\sber-mle-tech\\backend\\venv\\lib\\site-packages (from catboost) (3.3.4)\n",
      "Requirement already satisfied: plotly in d:\\react-life\\sber-mle-tech\\backend\\venv\\lib\\site-packages (from catboost) (4.14.3)\n",
      "Requirement already satisfied: python-dateutil>=2.7.3 in d:\\react-life\\sber-mle-tech\\backend\\venv\\lib\\site-packages (from pandas>=0.24.0->catboost) (2.8.1)\n",
      "Requirement already satisfied: pytz>=2017.3 in d:\\react-life\\sber-mle-tech\\backend\\venv\\lib\\site-packages (from pandas>=0.24.0->catboost) (2021.1)\n",
      "Requirement already satisfied: pillow>=6.2.0 in d:\\react-life\\sber-mle-tech\\backend\\venv\\lib\\site-packages (from matplotlib->catboost) (8.1.1)\n",
      "Requirement already satisfied: pyparsing!=2.0.4,!=2.1.2,!=2.1.6,>=2.0.3 in d:\\react-life\\sber-mle-tech\\backend\\venv\\lib\\site-packages (from matplotlib->catboost) (2.4.7)\n",
      "Requirement already satisfied: cycler>=0.10 in d:\\react-life\\sber-mle-tech\\backend\\venv\\lib\\site-packages (from matplotlib->catboost) (0.10.0)\n",
      "Requirement already satisfied: kiwisolver>=1.0.1 in d:\\react-life\\sber-mle-tech\\backend\\venv\\lib\\site-packages (from matplotlib->catboost) (1.3.1)\n",
      "Requirement already satisfied: retrying>=1.3.3 in d:\\react-life\\sber-mle-tech\\backend\\venv\\lib\\site-packages (from plotly->catboost) (1.3.3)\n",
      "Requirement already satisfied: seaborn in d:\\react-life\\sber-mle-tech\\backend\\venv\\lib\\site-packages (0.11.1)\n",
      "Requirement already satisfied: numpy>=1.15 in d:\\react-life\\sber-mle-tech\\backend\\venv\\lib\\site-packages (from seaborn) (1.20.1)\n",
      "Requirement already satisfied: scipy>=1.0 in d:\\react-life\\sber-mle-tech\\backend\\venv\\lib\\site-packages (from seaborn) (1.6.1)\n",
      "Requirement already satisfied: matplotlib>=2.2 in d:\\react-life\\sber-mle-tech\\backend\\venv\\lib\\site-packages (from seaborn) (3.3.4)\n",
      "Requirement already satisfied: pandas>=0.23 in d:\\react-life\\sber-mle-tech\\backend\\venv\\lib\\site-packages (from seaborn) (1.2.3)\n",
      "Requirement already satisfied: pyparsing!=2.0.4,!=2.1.2,!=2.1.6,>=2.0.3 in d:\\react-life\\sber-mle-tech\\backend\\venv\\lib\\site-packages (from matplotlib>=2.2->seaborn) (2.4.7)\n",
      "Requirement already satisfied: pillow>=6.2.0 in d:\\react-life\\sber-mle-tech\\backend\\venv\\lib\\site-packages (from matplotlib>=2.2->seaborn) (8.1.1)\n",
      "Requirement already satisfied: kiwisolver>=1.0.1 in d:\\react-life\\sber-mle-tech\\backend\\venv\\lib\\site-packages (from matplotlib>=2.2->seaborn) (1.3.1)\n",
      "Requirement already satisfied: python-dateutil>=2.1 in d:\\react-life\\sber-mle-tech\\backend\\venv\\lib\\site-packages (from matplotlib>=2.2->seaborn) (2.8.1)\n",
      "Requirement already satisfied: cycler>=0.10 in d:\\react-life\\sber-mle-tech\\backend\\venv\\lib\\site-packages (from matplotlib>=2.2->seaborn) (0.10.0)\n",
      "Requirement already satisfied: six in d:\\react-life\\sber-mle-tech\\backend\\venv\\lib\\site-packages (from cycler>=0.10->matplotlib>=2.2->seaborn) (1.15.0)\n",
      "Requirement already satisfied: pytz>=2017.3 in d:\\react-life\\sber-mle-tech\\backend\\venv\\lib\\site-packages (from pandas>=0.23->seaborn) (2021.1)\n"
     ]
    }
   ],
   "source": [
    "! pip install pandas\n",
    "! pip install joblib\n",
    "! pip install sklearn\n",
    "! pip install catboost\n",
    "! pip install seaborn"
   ]
  },
  {
   "cell_type": "code",
   "execution_count": 2,
   "metadata": {
    "pycharm": {
     "name": "#%%\n"
    }
   },
   "outputs": [],
   "source": [
    "import pandas as pd\n",
    "import seaborn as sns\n",
    "import matplotlib.pyplot as plt\n",
    "%matplotlib inline\n",
    "\n",
    "from collections import defaultdict\n",
    "from joblib import delayed, Parallel\n",
    "\n",
    "from sklearn.model_selection import train_test_split, StratifiedKFold\n",
    "from sklearn.metrics import accuracy_score,f1_score, matthews_corrcoef\n",
    "from catboost import CatBoostClassifier, Pool, sum_models\n",
    "from sklearn.model_selection._split import _BaseKFold\n"
   ]
  },
  {
   "cell_type": "code",
   "execution_count": 98,
   "metadata": {
    "pycharm": {
     "name": "#%%\n"
    }
   },
   "outputs": [],
   "source": [
    "suffixes = ['_se', '_re']\n",
    "pays = pd.read_csv('data/pays.csv')\n",
    "inn = pd.read_csv('data/inn_info_public.csv')\n",
    "merged_pays = pd.merge(pays, inn, how='inner', left_on='hash_inn_kt', right_on='hash_inn')\n",
    "merged_pays = pd.merge(\n",
    "    merged_pays, inn, how='inner',\n",
    "    left_on='hash_inn_dt', right_on='hash_inn',\n",
    "    suffixes=suffixes\n",
    ")\n",
    "merged_pays.drop(columns=['hash_inn_kt', 'hash_inn_dt'], inplace=True)\n",
    "suffixes = [suffix[1:] for suffix in suffixes]"
   ]
  },
  {
   "cell_type": "code",
   "execution_count": 87,
   "metadata": {
    "pycharm": {
     "name": "#%%\n"
    }
   },
   "outputs": [],
   "source": [
    "class FeatureGenerator(object):\n",
    "    def __init__(self, n_jobs=1, df=None, suffixes=None, key_param=None):\n",
    "        self.n_jobs = n_jobs\n",
    "        self.df = df\n",
    "        self.suffixes = suffixes\n",
    "        self.key_param = key_param\n",
    "\n",
    "    def read_chunks(self):\n",
    "        for suffix in self.suffixes:\n",
    "            column = f'{self.key_param}_{suffix}'\n",
    "            for id, user_sample in self.df.groupby(column, sort=False):\n",
    "                yield id, user_sample, column\n",
    "\n",
    "    def get_features(self, row):\n",
    "        return self.features(row)\n",
    "\n",
    "    def find_most_popular_column(self, row, pays, filtered_suffix, search_suffix):\n",
    "        inn = row.name\n",
    "        filtered_column_name = f'{self.key_param}_{filtered_suffix}'\n",
    "        search_column_name = f'{self.key_param}_{search_suffix}'\n",
    "        filtered_pays = pays[pays[filtered_column_name] == inn]\n",
    "        if len(filtered_pays) > 0:\n",
    "            return filtered_pays[search_column_name].value_counts().idxmax()\n",
    "        return -1\n",
    "\n",
    "    def features(self, inn: int, inn_sample, column: str):\n",
    "        feature_dict = defaultdict(dict)\n",
    "        prefix = column.split('_')[-1]\n",
    "        feature_dict[inn]['okved'] = inn_sample[f'okved2_{prefix}'].iloc[0]\n",
    "        number_of_records = inn_sample.shape[0]\n",
    "        positive_sum_sample = inn_sample[inn_sample['sum'] >= 0]\n",
    "        negative_sum_sample = inn_sample[inn_sample['sum'] < 0]\n",
    "        same_region = inn_sample[inn_sample[f'region_{self.suffixes[0]}'] == inn_sample[f'region_{self.suffixes[1]}']]\n",
    "        feature_dict[inn][f'region'] = inn_sample[f'region_{prefix}'].iloc[0]\n",
    "        feature_dict[inn][f'{prefix}_positive_sum_percent'] = (positive_sum_sample.shape[0] / number_of_records) * 100\n",
    "        feature_dict[inn][f'{prefix}_positive_sum'] = positive_sum_sample['sum'].sum()\n",
    "        feature_dict[inn][f'{prefix}_negative_sum_percent'] = (negative_sum_sample.shape[0] / number_of_records) * 100\n",
    "        feature_dict[inn][f'{prefix}_negative_sum'] = inn_sample[inn_sample['sum'] < 0]['sum'].sum()\n",
    "        feature_dict[inn][f\"{prefix}_sales_is_same_region\"] = (same_region.shape[0] / inn_sample.shape[0]) * 100\n",
    "        feature_dict[inn][f\"{prefix}_sales_is_not_same_region\"] = 100.00 - feature_dict[inn][f\"{prefix}_sales_is_same_region\"]\n",
    "        feature_dict[inn][f\"{prefix}_accum_sum\"] = inn_sample['sum'].sum()\n",
    "        feature_dict[inn][f\"{prefix}_sum_min\"] = inn_sample['sum'].min()\n",
    "        feature_dict[inn][f\"{prefix}_sum_max\"] = inn_sample['sum'].max()\n",
    "        feature_dict[inn][f\"{prefix}_sum_mean\"] = inn_sample['sum'].mean()\n",
    "        feature_dict[inn][f\"{prefix}_sum_25_percentile\"] = inn_sample['sum'].quantile(0.25)\n",
    "        feature_dict[inn][f\"{prefix}_sum_std\"] = inn_sample['sum'].std()\n",
    "        feature_dict[inn][f\"{prefix}_sum_75_percentile\"] = inn_sample['sum'].quantile(0.75)\n",
    "        feature_dict[inn][f'{prefix}_count_sum'] = inn_sample['count'].sum()\n",
    "        feature_dict[inn][f'{prefix}_count_mean'] = inn_sample['count'].mean()\n",
    "        feature_dict[inn][f'{prefix}_count_min'] = inn_sample['count'].min()\n",
    "        feature_dict[inn][f'{prefix}_count_max'] = inn_sample['count'].max()\n",
    "        feature_dict[inn][f'{prefix}_sum_across_week_mean'] = feature_dict[inn][f\"{prefix}_sum_mean\"] / feature_dict[inn][\n",
    "            f'{prefix}_count_sum']\n",
    "        feature_dict[inn][f'{prefix}_week_count'] = inn_sample['week'].nunique()\n",
    "        if prefix == self.suffixes[0]:\n",
    "            feature_dict[inn][f'{prefix}_number_of_clients'] = inn_sample[f'hash_inn_{self.suffixes[1]}'].nunique()\n",
    "            feature_dict[inn][f'{prefix}_number_of_regions'] = inn_sample[f'region_{self.suffixes[1]}'].nunique()\n",
    "        else:\n",
    "            feature_dict[inn][f'{prefix}_number_of_clients'] = inn_sample[f'hash_inn_{self.suffixes[0]}'].nunique()\n",
    "            feature_dict[inn][f'{prefix}_number_of_regions'] = inn_sample[f'region_{self.suffixes[0]}'].nunique()\n",
    "        feature_dict[inn][f'{prefix}_week_count'] = inn_sample['week'].nunique()\n",
    "        feature_dict[inn][f\"{prefix}_records_count\"] = number_of_records\n",
    "        self.postprocessing(feature_dict[inn])\n",
    "        return feature_dict\n",
    "\n",
    "    def postprocessing(self, features: dict):\n",
    "        for column, value in features.items():\n",
    "            if isinstance(value, float):\n",
    "                features[column] = round(value, 2)\n",
    "\n",
    "    def generate(self, pays, prefix_1, prefix_2):\n",
    "        feature_list = defaultdict(dict)\n",
    "        results = Parallel(n_jobs=self.n_jobs, backend='loky')(delayed(self.features)(inn, inn_sample, column)\n",
    "                                                               for inn, inn_sample, column in self.read_chunks())\n",
    "        for result in results:\n",
    "            for inn, features in result.items():\n",
    "                feature_list[inn].update(features)\n",
    "        feature_df = pd.DataFrame(feature_list).T\n",
    "        feature_df = feature_df.fillna(0)\n",
    "        feature_df[f'{self.suffixes[0]}_most_popular_client'] = feature_df.apply(\n",
    "            lambda row: self.find_most_popular_column(row, pays, prefix_1, prefix_2), axis=1)\n",
    "        feature_df[f'{self.suffixes[1]}_most_popular_client'] = feature_df.apply(\n",
    "            lambda row: self.find_most_popular_column(row, pays, prefix_2, prefix_1 ), axis=1)\n",
    "        return feature_df\n"
   ]
  },
  {
   "cell_type": "code",
   "execution_count": 88,
   "metadata": {
    "pycharm": {
     "name": "#%%\n"
    }
   },
   "outputs": [
    {
     "ename": "KeyboardInterrupt",
     "evalue": "",
     "output_type": "error",
     "traceback": [
      "\u001b[1;31m---------------------------------------------------------------------------\u001b[0m",
      "\u001b[1;31mKeyboardInterrupt\u001b[0m                         Traceback (most recent call last)",
      "\u001b[1;32m<ipython-input-88-c649334de0db>\u001b[0m in \u001b[0;36m<module>\u001b[1;34m\u001b[0m\n\u001b[0;32m      1\u001b[0m \u001b[0mfg\u001b[0m \u001b[1;33m=\u001b[0m \u001b[0mFeatureGenerator\u001b[0m\u001b[1;33m(\u001b[0m\u001b[0mn_jobs\u001b[0m\u001b[1;33m=\u001b[0m\u001b[1;36m4\u001b[0m\u001b[1;33m,\u001b[0m \u001b[0mdf\u001b[0m\u001b[1;33m=\u001b[0m\u001b[0mmerged_pays\u001b[0m\u001b[1;33m,\u001b[0m \u001b[0msuffixes\u001b[0m\u001b[1;33m=\u001b[0m\u001b[0msuffixes\u001b[0m\u001b[1;33m,\u001b[0m \u001b[0mkey_param\u001b[0m\u001b[1;33m=\u001b[0m\u001b[1;34m'hash_inn'\u001b[0m\u001b[1;33m)\u001b[0m\u001b[1;33m\u001b[0m\u001b[1;33m\u001b[0m\u001b[0m\n\u001b[1;32m----> 2\u001b[1;33m \u001b[0mfeatures\u001b[0m \u001b[1;33m=\u001b[0m \u001b[0mfg\u001b[0m\u001b[1;33m.\u001b[0m\u001b[0mgenerate\u001b[0m\u001b[1;33m(\u001b[0m\u001b[0mpays\u001b[0m\u001b[1;33m,\u001b[0m \u001b[1;34m'kt'\u001b[0m\u001b[1;33m,\u001b[0m \u001b[1;34m'dt'\u001b[0m\u001b[1;33m)\u001b[0m\u001b[1;33m\u001b[0m\u001b[1;33m\u001b[0m\u001b[0m\n\u001b[0m\u001b[0;32m      3\u001b[0m \u001b[1;33m\u001b[0m\u001b[0m\n",
      "\u001b[1;32m<ipython-input-87-3b95b681d289>\u001b[0m in \u001b[0;36mgenerate\u001b[1;34m(self, pays, prefix_1, prefix_2)\u001b[0m\n\u001b[0;32m     71\u001b[0m     \u001b[1;32mdef\u001b[0m \u001b[0mgenerate\u001b[0m\u001b[1;33m(\u001b[0m\u001b[0mself\u001b[0m\u001b[1;33m,\u001b[0m \u001b[0mpays\u001b[0m\u001b[1;33m,\u001b[0m \u001b[0mprefix_1\u001b[0m\u001b[1;33m,\u001b[0m \u001b[0mprefix_2\u001b[0m\u001b[1;33m)\u001b[0m\u001b[1;33m:\u001b[0m\u001b[1;33m\u001b[0m\u001b[1;33m\u001b[0m\u001b[0m\n\u001b[0;32m     72\u001b[0m         \u001b[0mfeature_list\u001b[0m \u001b[1;33m=\u001b[0m \u001b[0mdefaultdict\u001b[0m\u001b[1;33m(\u001b[0m\u001b[0mdict\u001b[0m\u001b[1;33m)\u001b[0m\u001b[1;33m\u001b[0m\u001b[1;33m\u001b[0m\u001b[0m\n\u001b[1;32m---> 73\u001b[1;33m         results = Parallel(n_jobs=self.n_jobs, backend='loky')(delayed(self.features)(inn, inn_sample, column)\n\u001b[0m\u001b[0;32m     74\u001b[0m                                                                for inn, inn_sample, column in self.read_chunks())\n\u001b[0;32m     75\u001b[0m         \u001b[1;32mfor\u001b[0m \u001b[0mresult\u001b[0m \u001b[1;32min\u001b[0m \u001b[0mresults\u001b[0m\u001b[1;33m:\u001b[0m\u001b[1;33m\u001b[0m\u001b[1;33m\u001b[0m\u001b[0m\n",
      "\u001b[1;32md:\\react-life\\sber-mle-tech\\backend\\venv\\lib\\site-packages\\joblib\\parallel.py\u001b[0m in \u001b[0;36m__call__\u001b[1;34m(self, iterable)\u001b[0m\n\u001b[0;32m   1052\u001b[0m \u001b[1;33m\u001b[0m\u001b[0m\n\u001b[0;32m   1053\u001b[0m             \u001b[1;32mwith\u001b[0m \u001b[0mself\u001b[0m\u001b[1;33m.\u001b[0m\u001b[0m_backend\u001b[0m\u001b[1;33m.\u001b[0m\u001b[0mretrieval_context\u001b[0m\u001b[1;33m(\u001b[0m\u001b[1;33m)\u001b[0m\u001b[1;33m:\u001b[0m\u001b[1;33m\u001b[0m\u001b[1;33m\u001b[0m\u001b[0m\n\u001b[1;32m-> 1054\u001b[1;33m                 \u001b[0mself\u001b[0m\u001b[1;33m.\u001b[0m\u001b[0mretrieve\u001b[0m\u001b[1;33m(\u001b[0m\u001b[1;33m)\u001b[0m\u001b[1;33m\u001b[0m\u001b[1;33m\u001b[0m\u001b[0m\n\u001b[0m\u001b[0;32m   1055\u001b[0m             \u001b[1;31m# Make sure that we get a last message telling us we are done\u001b[0m\u001b[1;33m\u001b[0m\u001b[1;33m\u001b[0m\u001b[1;33m\u001b[0m\u001b[0m\n\u001b[0;32m   1056\u001b[0m             \u001b[0melapsed_time\u001b[0m \u001b[1;33m=\u001b[0m \u001b[0mtime\u001b[0m\u001b[1;33m.\u001b[0m\u001b[0mtime\u001b[0m\u001b[1;33m(\u001b[0m\u001b[1;33m)\u001b[0m \u001b[1;33m-\u001b[0m \u001b[0mself\u001b[0m\u001b[1;33m.\u001b[0m\u001b[0m_start_time\u001b[0m\u001b[1;33m\u001b[0m\u001b[1;33m\u001b[0m\u001b[0m\n",
      "\u001b[1;32md:\\react-life\\sber-mle-tech\\backend\\venv\\lib\\site-packages\\joblib\\parallel.py\u001b[0m in \u001b[0;36mretrieve\u001b[1;34m(self)\u001b[0m\n\u001b[0;32m    931\u001b[0m             \u001b[1;32mtry\u001b[0m\u001b[1;33m:\u001b[0m\u001b[1;33m\u001b[0m\u001b[1;33m\u001b[0m\u001b[0m\n\u001b[0;32m    932\u001b[0m                 \u001b[1;32mif\u001b[0m \u001b[0mgetattr\u001b[0m\u001b[1;33m(\u001b[0m\u001b[0mself\u001b[0m\u001b[1;33m.\u001b[0m\u001b[0m_backend\u001b[0m\u001b[1;33m,\u001b[0m \u001b[1;34m'supports_timeout'\u001b[0m\u001b[1;33m,\u001b[0m \u001b[1;32mFalse\u001b[0m\u001b[1;33m)\u001b[0m\u001b[1;33m:\u001b[0m\u001b[1;33m\u001b[0m\u001b[1;33m\u001b[0m\u001b[0m\n\u001b[1;32m--> 933\u001b[1;33m                     \u001b[0mself\u001b[0m\u001b[1;33m.\u001b[0m\u001b[0m_output\u001b[0m\u001b[1;33m.\u001b[0m\u001b[0mextend\u001b[0m\u001b[1;33m(\u001b[0m\u001b[0mjob\u001b[0m\u001b[1;33m.\u001b[0m\u001b[0mget\u001b[0m\u001b[1;33m(\u001b[0m\u001b[0mtimeout\u001b[0m\u001b[1;33m=\u001b[0m\u001b[0mself\u001b[0m\u001b[1;33m.\u001b[0m\u001b[0mtimeout\u001b[0m\u001b[1;33m)\u001b[0m\u001b[1;33m)\u001b[0m\u001b[1;33m\u001b[0m\u001b[1;33m\u001b[0m\u001b[0m\n\u001b[0m\u001b[0;32m    934\u001b[0m                 \u001b[1;32melse\u001b[0m\u001b[1;33m:\u001b[0m\u001b[1;33m\u001b[0m\u001b[1;33m\u001b[0m\u001b[0m\n\u001b[0;32m    935\u001b[0m                     \u001b[0mself\u001b[0m\u001b[1;33m.\u001b[0m\u001b[0m_output\u001b[0m\u001b[1;33m.\u001b[0m\u001b[0mextend\u001b[0m\u001b[1;33m(\u001b[0m\u001b[0mjob\u001b[0m\u001b[1;33m.\u001b[0m\u001b[0mget\u001b[0m\u001b[1;33m(\u001b[0m\u001b[1;33m)\u001b[0m\u001b[1;33m)\u001b[0m\u001b[1;33m\u001b[0m\u001b[1;33m\u001b[0m\u001b[0m\n",
      "\u001b[1;32md:\\react-life\\sber-mle-tech\\backend\\venv\\lib\\site-packages\\joblib\\_parallel_backends.py\u001b[0m in \u001b[0;36mwrap_future_result\u001b[1;34m(future, timeout)\u001b[0m\n\u001b[0;32m    540\u001b[0m         AsyncResults.get from multiprocessing.\"\"\"\n\u001b[0;32m    541\u001b[0m         \u001b[1;32mtry\u001b[0m\u001b[1;33m:\u001b[0m\u001b[1;33m\u001b[0m\u001b[1;33m\u001b[0m\u001b[0m\n\u001b[1;32m--> 542\u001b[1;33m             \u001b[1;32mreturn\u001b[0m \u001b[0mfuture\u001b[0m\u001b[1;33m.\u001b[0m\u001b[0mresult\u001b[0m\u001b[1;33m(\u001b[0m\u001b[0mtimeout\u001b[0m\u001b[1;33m=\u001b[0m\u001b[0mtimeout\u001b[0m\u001b[1;33m)\u001b[0m\u001b[1;33m\u001b[0m\u001b[1;33m\u001b[0m\u001b[0m\n\u001b[0m\u001b[0;32m    543\u001b[0m         \u001b[1;32mexcept\u001b[0m \u001b[0mCfTimeoutError\u001b[0m \u001b[1;32mas\u001b[0m \u001b[0me\u001b[0m\u001b[1;33m:\u001b[0m\u001b[1;33m\u001b[0m\u001b[1;33m\u001b[0m\u001b[0m\n\u001b[0;32m    544\u001b[0m             \u001b[1;32mraise\u001b[0m \u001b[0mTimeoutError\u001b[0m \u001b[1;32mfrom\u001b[0m \u001b[0me\u001b[0m\u001b[1;33m\u001b[0m\u001b[1;33m\u001b[0m\u001b[0m\n",
      "\u001b[1;32m~\\AppData\\Local\\Programs\\Python\\Python38\\lib\\concurrent\\futures\\_base.py\u001b[0m in \u001b[0;36mresult\u001b[1;34m(self, timeout)\u001b[0m\n\u001b[0;32m    432\u001b[0m                 \u001b[1;32mreturn\u001b[0m \u001b[0mself\u001b[0m\u001b[1;33m.\u001b[0m\u001b[0m__get_result\u001b[0m\u001b[1;33m(\u001b[0m\u001b[1;33m)\u001b[0m\u001b[1;33m\u001b[0m\u001b[1;33m\u001b[0m\u001b[0m\n\u001b[0;32m    433\u001b[0m \u001b[1;33m\u001b[0m\u001b[0m\n\u001b[1;32m--> 434\u001b[1;33m             \u001b[0mself\u001b[0m\u001b[1;33m.\u001b[0m\u001b[0m_condition\u001b[0m\u001b[1;33m.\u001b[0m\u001b[0mwait\u001b[0m\u001b[1;33m(\u001b[0m\u001b[0mtimeout\u001b[0m\u001b[1;33m)\u001b[0m\u001b[1;33m\u001b[0m\u001b[1;33m\u001b[0m\u001b[0m\n\u001b[0m\u001b[0;32m    435\u001b[0m \u001b[1;33m\u001b[0m\u001b[0m\n\u001b[0;32m    436\u001b[0m             \u001b[1;32mif\u001b[0m \u001b[0mself\u001b[0m\u001b[1;33m.\u001b[0m\u001b[0m_state\u001b[0m \u001b[1;32min\u001b[0m \u001b[1;33m[\u001b[0m\u001b[0mCANCELLED\u001b[0m\u001b[1;33m,\u001b[0m \u001b[0mCANCELLED_AND_NOTIFIED\u001b[0m\u001b[1;33m]\u001b[0m\u001b[1;33m:\u001b[0m\u001b[1;33m\u001b[0m\u001b[1;33m\u001b[0m\u001b[0m\n",
      "\u001b[1;32m~\\AppData\\Local\\Programs\\Python\\Python38\\lib\\threading.py\u001b[0m in \u001b[0;36mwait\u001b[1;34m(self, timeout)\u001b[0m\n\u001b[0;32m    300\u001b[0m         \u001b[1;32mtry\u001b[0m\u001b[1;33m:\u001b[0m    \u001b[1;31m# restore state no matter what (e.g., KeyboardInterrupt)\u001b[0m\u001b[1;33m\u001b[0m\u001b[1;33m\u001b[0m\u001b[0m\n\u001b[0;32m    301\u001b[0m             \u001b[1;32mif\u001b[0m \u001b[0mtimeout\u001b[0m \u001b[1;32mis\u001b[0m \u001b[1;32mNone\u001b[0m\u001b[1;33m:\u001b[0m\u001b[1;33m\u001b[0m\u001b[1;33m\u001b[0m\u001b[0m\n\u001b[1;32m--> 302\u001b[1;33m                 \u001b[0mwaiter\u001b[0m\u001b[1;33m.\u001b[0m\u001b[0macquire\u001b[0m\u001b[1;33m(\u001b[0m\u001b[1;33m)\u001b[0m\u001b[1;33m\u001b[0m\u001b[1;33m\u001b[0m\u001b[0m\n\u001b[0m\u001b[0;32m    303\u001b[0m                 \u001b[0mgotit\u001b[0m \u001b[1;33m=\u001b[0m \u001b[1;32mTrue\u001b[0m\u001b[1;33m\u001b[0m\u001b[1;33m\u001b[0m\u001b[0m\n\u001b[0;32m    304\u001b[0m             \u001b[1;32melse\u001b[0m\u001b[1;33m:\u001b[0m\u001b[1;33m\u001b[0m\u001b[1;33m\u001b[0m\u001b[0m\n",
      "\u001b[1;31mKeyboardInterrupt\u001b[0m: "
     ]
    }
   ],
   "source": [
    "fg = FeatureGenerator(n_jobs=4, df=merged_pays, suffixes=suffixes, key_param='hash_inn')\n",
    "features = fg.generate(pays, 'kt', 'dt')"
   ]
  },
  {
   "cell_type": "code",
   "execution_count": null,
   "metadata": {
    "pycharm": {
     "name": "#%%\n"
    }
   },
   "outputs": [],
   "source": [
    "features.to_csv('features.csv')"
   ]
  },
  {
   "cell_type": "code",
   "execution_count": 3,
   "metadata": {
    "pycharm": {
     "name": "#%%\n"
    }
   },
   "outputs": [],
   "source": [
    "features = pd.read_csv('features.csv', index_col='Unnamed: 0')"
   ]
  },
  {
   "cell_type": "code",
   "execution_count": 4,
   "metadata": {
    "pycharm": {
     "name": "#%%\n"
    }
   },
   "outputs": [],
   "source": [
    "features.region = features.region.astype(int)\n",
    "X = features[features.okved != -1]\n",
    "y = X['okved']\n",
    "X_test = features[features.okved == -1]\n",
    "X_test = X_test.drop(columns=['okved'])"
   ]
  },
  {
   "cell_type": "code",
   "execution_count": 5,
   "metadata": {
    "pycharm": {
     "name": "#%%\n"
    }
   },
   "outputs": [],
   "source": [
    "class Model:\n",
    "    \n",
    "    def __init__(self):\n",
    "        self.models_avg = None\n",
    "    \n",
    "    def _print_metrics(self, y, y_pred):\n",
    "        print('Test accuracy %s' % accuracy_score(y, y_pred))\n",
    "        print('Test accuracy Matthew %s' % matthews_corrcoef(y, y_pred))\n",
    "        print('Test accuracy micro %s' % f1_score(y, y_pred, average='micro'))\n",
    "        \n",
    "    def fit(self, X: pd.DataFrame, y: pd.DataFrame, nfold: int, cross_validator: _BaseKFold):\n",
    "        \n",
    "        models = []\n",
    "        self.feature_importances = pd.DataFrame(columns=['feature', 'importance'])\n",
    "        folds = cross_validator(n_splits=nfold)\n",
    "        for fold_n, (train_index, valid_index) in enumerate(folds.split(X, y, X['okved'])):\n",
    "            print(f'Start training fold #{fold_n}')\n",
    "            X_t = X.drop(columns=['okved'])\n",
    "            X_train, X_valid = X_t.iloc[train_index], X_t.iloc[valid_index]\n",
    "            y_train, y_valid = y.iloc[train_index], y.iloc[valid_index]\n",
    "            train_pool = Pool(X_train,\n",
    "                              y_train,\n",
    "                              cat_features=['region', 're_most_popular_client', 'se_most_popular_client'])\n",
    "            model = CatBoostClassifier(iterations=1000, task_type='GPU', verbose=100)\n",
    "            model.fit(train_pool)\n",
    "            y_pred_valid = model.predict(X_valid)\n",
    "            self._print_metrics(y_valid, y_pred_valid)\n",
    "            models.append(model)\n",
    "            fold_importance = pd.DataFrame(list(zip(X_train.columns, model.feature_importances_)),\n",
    "                                           columns=['feature', 'importance'])\n",
    "            self.feature_importances = self.feature_importances.append(fold_importance)\n",
    "        self.models_avg = sum_models(models, weights=[1.0 / len(models)] * len(models))\n",
    "        y_pred_valid = self.models_avg.predict(X_valid).argmax(axis=1)\n",
    "        print(f'Average Models')\n",
    "        self._print_metrics(y_valid, y_pred_valid)\n",
    "        fig, ax = plt.subplots(figsize=(16, 12))\n",
    "        plt.subplot(2, 2, 1)\n",
    "        self.plot_feature_importance(top_n=20)\n",
    "    \n",
    "    def predict(self, X: pd.DataFrame):\n",
    "        return self.models_avg.predict(X).argmax(axis=1)\n",
    "    \n",
    "    def plot_feature_importance(self, drop_null_importance: bool = True, top_n: int = 10):\n",
    "        top_feats = self.get_top_features(drop_null_importance, top_n)\n",
    "        feature_importances = self.feature_importances.loc[self.feature_importances['feature'].isin(top_feats)]\n",
    "        feature_importances['feature'] = feature_importances['feature'].astype(str)\n",
    "        top_feats = [str(i) for i in top_feats]\n",
    "        sns.barplot(data=feature_importances, x='importance', y='feature', orient='h', order=top_feats)\n",
    "        plt.title('Feature importances')\n",
    "\n",
    "    def get_top_features(self, drop_null_importance: bool = True, top_n: int = 10):\n",
    "        grouped_feats = self.feature_importances.groupby(['feature'])['importance'].mean()\n",
    "        if drop_null_importance:\n",
    "            grouped_feats = grouped_feats[grouped_feats != 0]\n",
    "        return list(grouped_feats.sort_values(ascending=False).index)[:top_n]\n",
    "\n",
    "    "
   ]
  },
  {
   "cell_type": "code",
   "execution_count": 6,
   "metadata": {
    "scrolled": false
   },
   "outputs": [
    {
     "name": "stdout",
     "output_type": "stream",
     "text": [
      "Start training fold #0\n",
      "Learning rate set to 0.174958\n",
      "0:\tlearn: 3.5168299\ttotal: 167ms\tremaining: 2m 47s\n",
      "100:\tlearn: 2.6927584\ttotal: 18.3s\tremaining: 2m 43s\n",
      "200:\tlearn: 2.5810094\ttotal: 35.6s\tremaining: 2m 21s\n",
      "300:\tlearn: 2.4997653\ttotal: 52.7s\tremaining: 2m 2s\n",
      "400:\tlearn: 2.4288649\ttotal: 1m 9s\tremaining: 1m 44s\n",
      "500:\tlearn: 2.3585159\ttotal: 1m 27s\tremaining: 1m 27s\n",
      "600:\tlearn: 2.2952688\ttotal: 1m 47s\tremaining: 1m 11s\n",
      "700:\tlearn: 2.2306366\ttotal: 2m 5s\tremaining: 53.6s\n",
      "800:\tlearn: 2.1699806\ttotal: 2m 24s\tremaining: 35.8s\n",
      "900:\tlearn: 2.1135614\ttotal: 2m 42s\tremaining: 17.8s\n",
      "999:\tlearn: 2.0560132\ttotal: 3m\tremaining: 0us\n",
      "Test accuracy 0.33996220921227893\n",
      "Test accuracy Matthew 0.19579453677251815\n",
      "Test accuracy micro 0.33996220921227893\n",
      "Start training fold #1\n",
      "Learning rate set to 0.174958\n",
      "0:\tlearn: 3.5175218\ttotal: 167ms\tremaining: 2m 47s\n",
      "100:\tlearn: 2.6812920\ttotal: 18.1s\tremaining: 2m 41s\n",
      "200:\tlearn: 2.5551318\ttotal: 35.9s\tremaining: 2m 22s\n",
      "300:\tlearn: 2.4682675\ttotal: 53.5s\tremaining: 2m 4s\n",
      "400:\tlearn: 2.3940111\ttotal: 1m 10s\tremaining: 1m 46s\n",
      "500:\tlearn: 2.3211230\ttotal: 1m 28s\tremaining: 1m 28s\n",
      "600:\tlearn: 2.2551125\ttotal: 1m 45s\tremaining: 1m 10s\n",
      "700:\tlearn: 2.1939401\ttotal: 2m 3s\tremaining: 52.6s\n",
      "800:\tlearn: 2.1316177\ttotal: 2m 21s\tremaining: 35.1s\n",
      "900:\tlearn: 2.0750151\ttotal: 2m 38s\tremaining: 17.4s\n",
      "999:\tlearn: 2.0188515\ttotal: 2m 55s\tremaining: 0us\n",
      "Test accuracy 0.32094291112969675\n",
      "Test accuracy Matthew 0.16349729251240738\n",
      "Test accuracy micro 0.32094291112969675\n",
      "Start training fold #2\n",
      "Learning rate set to 0.174958\n",
      "0:\tlearn: 3.5258548\ttotal: 162ms\tremaining: 2m 42s\n",
      "100:\tlearn: 2.6829632\ttotal: 18s\tremaining: 2m 40s\n",
      "200:\tlearn: 2.5513256\ttotal: 35.6s\tremaining: 2m 21s\n",
      "300:\tlearn: 2.4635528\ttotal: 53s\tremaining: 2m 3s\n",
      "400:\tlearn: 2.3885259\ttotal: 1m 10s\tremaining: 1m 45s\n",
      "500:\tlearn: 2.3180002\ttotal: 1m 28s\tremaining: 1m 28s\n",
      "600:\tlearn: 2.2450719\ttotal: 1m 46s\tremaining: 1m 10s\n",
      "700:\tlearn: 2.1774751\ttotal: 2m 3s\tremaining: 52.9s\n",
      "800:\tlearn: 2.1121742\ttotal: 2m 21s\tremaining: 35.2s\n",
      "900:\tlearn: 2.0518462\ttotal: 2m 39s\tremaining: 17.5s\n",
      "999:\tlearn: 1.9940770\ttotal: 2m 56s\tremaining: 0us\n",
      "Test accuracy 0.32010655763095125\n",
      "Test accuracy Matthew 0.16376997366371449\n",
      "Test accuracy micro 0.32010655763095125\n",
      "Start training fold #3\n",
      "Learning rate set to 0.174958\n",
      "0:\tlearn: 3.5210649\ttotal: 174ms\tremaining: 2m 53s\n",
      "100:\tlearn: 2.6418853\ttotal: 19.4s\tremaining: 2m 52s\n",
      "200:\tlearn: 2.5097064\ttotal: 36.8s\tremaining: 2m 26s\n",
      "300:\tlearn: 2.4195675\ttotal: 54.1s\tremaining: 2m 5s\n",
      "400:\tlearn: 2.3437655\ttotal: 1m 11s\tremaining: 1m 46s\n",
      "500:\tlearn: 2.2674136\ttotal: 1m 28s\tremaining: 1m 27s\n",
      "600:\tlearn: 2.1932749\ttotal: 1m 46s\tremaining: 1m 11s\n",
      "700:\tlearn: 2.1232586\ttotal: 2m 5s\tremaining: 53.5s\n",
      "800:\tlearn: 2.0563888\ttotal: 2m 23s\tremaining: 35.6s\n",
      "900:\tlearn: 1.9939897\ttotal: 2m 43s\tremaining: 18s\n",
      "999:\tlearn: 1.9299123\ttotal: 3m 2s\tremaining: 0us\n",
      "Test accuracy 0.27339466592324135\n",
      "Test accuracy Matthew 0.11022484350568443\n",
      "Test accuracy micro 0.27339466592324135\n",
      "Start training fold #4\n",
      "Learning rate set to 0.174958\n",
      "0:\tlearn: 3.5352205\ttotal: 175ms\tremaining: 2m 55s\n",
      "100:\tlearn: 2.6269643\ttotal: 19.3s\tremaining: 2m 51s\n",
      "200:\tlearn: 2.4872250\ttotal: 37.5s\tremaining: 2m 28s\n",
      "300:\tlearn: 2.3993196\ttotal: 55.5s\tremaining: 2m 8s\n",
      "400:\tlearn: 2.3178259\ttotal: 1m 13s\tremaining: 1m 49s\n",
      "500:\tlearn: 2.2404311\ttotal: 1m 31s\tremaining: 1m 31s\n",
      "600:\tlearn: 2.1699530\ttotal: 1m 51s\tremaining: 1m 13s\n",
      "700:\tlearn: 2.0971649\ttotal: 2m 10s\tremaining: 55.6s\n",
      "800:\tlearn: 2.0256600\ttotal: 2m 29s\tremaining: 37.1s\n",
      "900:\tlearn: 1.9580485\ttotal: 2m 48s\tremaining: 18.6s\n",
      "999:\tlearn: 1.8971503\ttotal: 3m 7s\tremaining: 0us\n",
      "Test accuracy 0.2952018090016417\n",
      "Test accuracy Matthew 0.15056867442326377\n",
      "Test accuracy micro 0.2952018090016417\n",
      "Average Models\n",
      "Test accuracy 0.36443329306446115\n",
      "Test accuracy Matthew 0.22795019207676478\n",
      "Test accuracy micro 0.36443329306446115\n"
     ]
    },
    {
     "name": "stderr",
     "output_type": "stream",
     "text": [
      "<ipython-input-5-c7cb2b11834a>:46: SettingWithCopyWarning: \n",
      "A value is trying to be set on a copy of a slice from a DataFrame.\n",
      "Try using .loc[row_indexer,col_indexer] = value instead\n",
      "\n",
      "See the caveats in the documentation: https://pandas.pydata.org/pandas-docs/stable/user_guide/indexing.html#returning-a-view-versus-a-copy\n",
      "  feature_importances['feature'] = feature_importances['feature'].astype(str)\n"
     ]
    },
    {
     "data": {
      "image/png": "[encoded data removed]",
      "text/plain": [
       "<Figure size 1152x864 with 1 Axes>"
      ]
     },
     "metadata": {
      "needs_background": "light"
     },
     "output_type": "display_data"
    }
   ],
   "source": [
    "n_fold = 5\n",
    "model = Model()\n",
    "model.fit(X, y, n_fold, StratifiedKFold)"
   ]
  },
  {
   "cell_type": "code",
   "execution_count": 7,
   "metadata": {
    "pycharm": {
     "name": "#%%\n"
    }
   },
   "outputs": [],
   "source": [
    "y_pred = model.predict(X_test)\n",
    "submission = pd.DataFrame(data=y_pred,  columns=[\"okved2\"], index=X_test.index)\n",
    "submission.to_csv('submission.csv')"
   ]
  },
  {
   "cell_type": "code",
   "execution_count": null,
   "metadata": {
    "pycharm": {
     "name": "#%%\n"
    }
   },
   "outputs": [],
   "source": []
  },
  {
   "cell_type": "code",
   "execution_count": null,
   "metadata": {},
   "outputs": [],
   "source": []
  },
  {
   "cell_type": "code",
   "execution_count": null,
   "metadata": {},
   "outputs": [],
   "source": []
  }
 ],
 "metadata": {
  "kernelspec": {
   "display_name": "Python 3",
   "language": "python",
   "name": "python3"
  },
  "language_info": {
   "codemirror_mode": {
    "name": "ipython",
    "version": 3
   },
   "file_extension": ".py",
   "mimetype": "text/x-python",
   "name": "python",
   "nbconvert_exporter": "python",
   "pygments_lexer": "ipython3",
   "version": "3.8.3"
  }
 },
 "nbformat": 4,
 "nbformat_minor": 1
}
