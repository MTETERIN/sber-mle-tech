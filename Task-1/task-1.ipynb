{
 "cells": [
  {
   "cell_type": "markdown",
   "metadata": {
    "collapsed": true
   },
   "source": [
    "##### 1. В python2.7 есть функции range и xrange. В чем разница?\n",
    "\n",
    "- range - возвращает список, который хранится в памяти.\n",
    "- xrange - возвращает генератор, который вычисляется лениво. Генераторы выдают элемент по-одному, не загружая в память сразу всю коллекцию. Выше производительность, но зато сложнее отлаживать код, написанный на генераторах полностью. По окончанию обработки всех элементов выбрасывает Exception **StopIteration**.\n",
    "\n",
    "В python3 функцию xrange переименовали в range."
   ]
  },
  {
   "cell_type": "markdown",
   "metadata": {
    "pycharm": {
     "name": "#%%\n"
    }
   },
   "source": [
    "#### 2. Вывести первые 10 чисел Фибоначчи.\n"
   ]
  },
  {
   "cell_type": "markdown",
   "metadata": {
    "pycharm": {
     "name": "#%%\n"
    }
   },
   "source": [
    "##### Подход 1. Динамическое программирование.\n",
    "\n"
   ]
  },
  {
   "cell_type": "code",
   "execution_count": 21,
   "metadata": {},
   "outputs": [],
   "source": [
    "def fibonacci_generator(n):\n",
    "    fib_1, fib_2 = 1, 1\n",
    "    for i in range(n):\n",
    "        yield fib_1\n",
    "        fib_1, fib_2 = fib_2, fib_1 + fib_2 "
   ]
  },
  {
   "cell_type": "code",
   "execution_count": 22,
   "metadata": {},
   "outputs": [
    {
     "name": "stdout",
     "output_type": "stream",
     "text": [
      "1\n",
      "1\n",
      "2\n",
      "3\n",
      "5\n",
      "8\n",
      "13\n",
      "21\n",
      "34\n",
      "55\n"
     ]
    }
   ],
   "source": [
    "for i in fibonacci_generator(10):\n",
    "    print(i)"
   ]
  },
  {
   "cell_type": "markdown",
   "metadata": {},
   "source": [
    "##### Подход 2. Золотое сечение.\n",
    "\n",
    "Подсчитать числа Фибоначчи можно с помощью следующей формулы: $$\n",
    "\\phi = \\frac{1 + \\sqrt{5}}{2} \\\\\n",
    "Fn = [\\frac{\\phi^n}{\\sqrt{5}} + \\frac{1}{2}]\n",
    "$$\n"
   ]
  },
  {
   "cell_type": "code",
   "execution_count": 19,
   "metadata": {},
   "outputs": [],
   "source": [
    "def fibonacci_generator_2(n):\n",
    "    golden_ratio = (1 + 5 ** 0.5) / 2\n",
    "    for i in range(1, n + 1):\n",
    "        yield int(((golden_ratio ** i) / 5 ** 0.5) + 0.5)\n"
   ]
  },
  {
   "cell_type": "code",
   "execution_count": 20,
   "metadata": {},
   "outputs": [
    {
     "name": "stdout",
     "output_type": "stream",
     "text": [
      "1\n",
      "1\n",
      "2\n",
      "3\n",
      "5\n",
      "8\n",
      "13\n",
      "21\n",
      "34\n",
      "55\n"
     ]
    }
   ],
   "source": [
    "for i in fibonacci_generator_2(10):\n",
    "    print(i)"
   ]
  }
 ],
 "metadata": {
  "kernelspec": {
   "display_name": "Python 3",
   "language": "python",
   "name": "python3"
  },
  "language_info": {
   "codemirror_mode": {
    "name": "ipython",
    "version": 3
   },
   "file_extension": ".py",
   "mimetype": "text/x-python",
   "name": "python",
   "nbconvert_exporter": "python",
   "pygments_lexer": "ipython3",
   "version": "3.9.2"
  }
 },
 "nbformat": 4,
 "nbformat_minor": 1
}
